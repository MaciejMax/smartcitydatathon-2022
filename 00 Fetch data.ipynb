{
 "cells": [
  {
   "cell_type": "markdown",
   "id": "7d47f08b",
   "metadata": {},
   "source": [
    "## Fetch data from 19115."
   ]
  },
  {
   "cell_type": "code",
   "execution_count": 1,
   "id": "93044f5a",
   "metadata": {
    "ExecuteTime": {
     "end_time": "2022-05-02T18:33:23.855850Z",
     "start_time": "2022-05-02T18:33:21.464634Z"
    }
   },
   "outputs": [],
   "source": [
    "import requests\n",
    "from asyncio import sleep\n",
    "from datetime import date, datetime, timedelta\n",
    "import gzip\n",
    "import json"
   ]
  },
  {
   "cell_type": "code",
   "execution_count": 2,
   "id": "74a1505d",
   "metadata": {},
   "outputs": [],
   "source": [
    "# URL format\n",
    "REQUEST_URL = \"https://api.um.warszawa.pl/api/action/19115v2_incidents/?apikey=XXXXXXXX-XXXX-XXXX-XXXX-XXXXXXXXXXXX\" # get your own API key :)\n",
    "\n",
    "# delay between requests\n",
    "REQUEST_DELAY_SEC = 0"
   ]
  },
  {
   "cell_type": "code",
   "execution_count": 3,
   "id": "1b2953ca",
   "metadata": {},
   "outputs": [],
   "source": [
    "# test request\n",
    "payload = json.dumps({\n",
    "    \"filters\": [\n",
    "        {\n",
    "            \"field\": \"CREATE_DATE\",\n",
    "            \"operator\": \"GEQ\",\n",
    "            \"value\": [\n",
    "                \"2021-11-11T10:00:00Z\"\n",
    "            ]\n",
    "        },\n",
    "        {\n",
    "            \"field\": \"CREATE_DATE\",\n",
    "            \"operator\": \"LEQ\",\n",
    "            \"value\": [\n",
    "                \"2021-11-11T11:00:00Z\"\n",
    "            ]\n",
    "        }\n",
    "    ],\n",
    "    \"operators\": [\n",
    "        \"AND\"\n",
    "    ],\n",
    "    \"sorters\": [],\n",
    "    \"paginator\": {\n",
    "        \"resultLimit\": 2000,\n",
    "        \"resultOffset\": 0\n",
    "    }\n",
    "})\n",
    "headers = {\n",
    "    'Content-Type': 'application/json'\n",
    "}\n",
    "\n",
    "response = requests.request(\"POST\", REQUEST_URL, headers=headers, data=payload)\n",
    "\n",
    "# print(response.text)\n"
   ]
  },
  {
   "cell_type": "code",
   "execution_count": 4,
   "id": "ebdab248",
   "metadata": {},
   "outputs": [
    {
     "data": {
      "text/plain": [
       "b'    {\"result\":{\"success\":true,\"result\":{\"totalRecords\":\"85\",\"message\":\"OK\",\"result\":[{\"status\":\"Zamkni\\\\u0119te\",\"city\":\"Warszawa\",\"categoryName\":\"Proces Interwencyjny\",\"createDate\":\"2021-11-11 11:00:19\",\"lon\":-1,\"caseId\":\"1-10TLHL8\",\"number\":\"613079\\\\/21\",\"eventName\":\"Uwagi dotycz\\\\u0105ce przystanku - rozk\\\\u0142ad jazdy, uszkodzenia\",\"subcategoryName\":\"Komunikacja\",\"lat\":-1,\"id\":\"1-10TL9VC\",\"sourceType\":\"CALL\"},{\"status\":\"Zamkni\\\\u0119te\",\"categoryName\":\"Informacyjne\",\"createDate\":\"2021-11-11 11:01:19\",\"lon\":-1,\"number\":\"613080\\\\/21\",\"caseId\":\"1-10TLABJ\",\"subcategoryName\":\"Inne\",\"lat\":-1,\"id\":\"1-10TLA6U\",\"sourceType\":\"CALL\"},{\"status\":\"Zamkni\\\\u0119te\",\"city\":\"Warszawa\",\"categoryName\":\"Proces Interwencyjny\",\"district\":\"Ursyn\\\\u00f3w\",\"createDate\":\"2021-11-11 11:01:43\",\"lon\":21.020491371783493,\"caseId\":\"1-10TLHJQ\",\"number\":\"613081\\\\/21\",\"eventName\":\"Przepe\\\\u0142nienie\\\\/brak odbioru wg harmonogramu\",\"street\":\"Bociania\",\"subcategoryName\":\"\\\\u015amieci\",\"lat\":52.148446489663534,\"houseNumber\":\"27\",\"id\":\"1-10TL9TD\",\"sourceType\":\"CALL\"},{\"status\":\"Zamkni\\\\u0119te\",\"sourceType\":\"CKM\",\"createDate\":\"2021-11-11 11:02:12\",\"lon\":-1,\"caseId\":\"1-10S23IO\",\"number\":\"613082\\\\/21\",\"lat\":-1,\"id\":\"1-10TLA7Z\"},{\"status\":\"Zamkni\\\\u0119te\",\"city\":\"Warszawa\",\"sourceType\":\"CALL\",\"createDate\":\"2021-11-11 11:03:10\",\"lon\":-1,\"caseId\":\"1-10R0FFA\",\"number\":\"613084\\\\/21\",\"lat\":-1,\"id\":\"1-10TL4NY\"},{\"status\":\"Zamkni\\\\u0119te\",\"city\":\"Warszawa\",\"categoryName\":\"Proces Interwencyjny\",\"district\":\"Bemowo\",\"street2\":\"Obro\\\\u0144c\\\\u00f3w Tobruku 18C, 01-494 Bemowo\",\"lon\":20.93278,\"caseId\":\"1-10TLEFF\",\"number\":\"613083\\\\/21\",\"eventName\":\"Odbi\\\\u00f3r odpad\\\\u00f3w na zg\\\\u0142oszenie - gabaryty, zielone\",\"lat\":52.26109,\"deviceType\":\"ios\",\"id\":\"1-10TLEEN\",\"subcategoryName\":\"\\\\u015amieci\",\"createDate\":\"2021-11-11 11:03:10\",\"sourceType\":\"MOBILE\"},{\"status\":\"Zamkni\\\\u0119te\",\"city\":\"Warszawa\",\"categoryName\":\"Proces Interwencyjny\",\"district\":\"Praga-Po\\\\u0142udnie\",\"createDate\":\"2021-11-11 11:05:21\",\"lon\":21.11019194126129,\"caseId\":\"1-10TLEGQ\",\"number\":\"613085\\\\/21\",\"eventName\":\"Przepe\\\\u0142nienie\\\\/brak odbioru wg harmonogramu\",\"street\":\"Grochowska\",\"subcategoryName\":\"\\\\u015amieci\",\"lat\":52.24032653114581,\"houseNumber\":\"75\",\"id\":\"1-10TLEG3\",\"sourceType\":\"PORTAL\"},{\"status\":\"Zamkni\\\\u0119te\",\"categoryName\":\"Informacyjne\",\"createDate\":\"2021-11-11 11:05:30\",\"lon\":-1,\"number\":\"613086\\\\/21\",\"caseId\":\"1-10TLHEQ\",\"subcategoryName\":\"Inne\",\"lat\":-1,\"id\":\"1-10TLA21\",\"sourceType\":\"CALL\"},{\"status\":\"Zamkni\\\\u0119te\",\"city\":\"Warszawa\",\"categoryName\":\"Proces Interwencyjny\",\"createDate\":\"2021-11-11 11:06:04\",\"lon\":-1,\"caseId\":\"1-10TLHRD\",\"number\":\"613087\\\\/21\",\"eventName\":\"Uwagi dotycz\\\\u0105ce przystanku - rozk\\\\u0142ad jazdy, uszkodzenia\",\"subcategoryName\":\"Komunikacja\",\"lat\":-1,\"id\":\"1-10TLHDG\",\"sourceType\":\"CALL\"},{\"status\":\"Zamkni\\\\u0119te\",\"sourceType\":\"CALL\",\"createDate\":\"2021-11-11 11:07:58\",\"lon\":-1,\"caseId\":\"1-10TLHOK\",\"number\":\"613088\\\\/21\",\"lat\":-1,\"id\":\"1-10TLA5C\"},{\"status\":\"Zamkni\\\\u0119te\",\"city\":\"Warszawa\",\"categoryName\":\"Proces Interwencyjny\",\"district\":\"\\\\u015ar\\\\u00f3dmie\\\\u015bcie\",\"street2\":\"\\\\u0141azienkowska 6A, 00-449 \\\\u015ar\\\\u00f3dmie\\\\u015bcie\",\"lon\":21.04241,\"caseId\":\"1-10TL4W5\",\"number\":\"613089\\\\/21\",\"eventName\":\"Zg\\\\u0142oszenie o zaj\\\\u0119ciu pasa drogi\",\"lat\":52.22313,\"deviceType\":\"ios\",\"id\":\"1-10TLF47\",\"subcategoryName\":\"Drogi\",\"createDate\":\"2021-11-11 11:08:06\",\"sourceType\":\"MOBILE\"},{\"status\":\"Zamkni\\\\u0119te\",\"city\":\"Warszawa\",\"categoryName\":\"Proces Interwencyjny\",\"district\":\"Bia\\\\u0142o\\\\u0142\\\\u0119ka\",\"street2\":\"Skarbka z G\\\\u00f3r 19, 03-287 Bia\\\\u0142o\\\\u0142\\\\u0119ka\",\"lon\":21.06009,\"caseId\":\"1-10TLHPF\",\"number\":\"613090\\\\/21\",\"eventName\":\"Zg\\\\u0142oszenie o zaj\\\\u0119ciu pasa drogi\",\"lat\":52.31589,\"deviceType\":\"android\",\"id\":\"1-10TLF5B\",\"subcategoryName\":\"Drogi\",\"createDate\":\"2021-11-11 11:08:11\",\"sourceType\":\"MOBILE\"},{\"status\":\"Zamkni\\\\u0119te\",\"city\":\"Warszawa\",\"categoryName\":\"Proces Interwencyjny\",\"district\":\"Targ\\\\u00f3wek\",\"street2\":\"Oliwska 1A, 03-316 Targ\\\\u00f3wek\",\"lon\":21.02371,\"caseId\":\"1-10TL4UZ\",\"number\":\"613091\\\\/21\",\"eventName\":\"Szczury w miejscach publicznych\",\"lat\":52.27761,\"deviceType\":\"android\",\"id\":\"1-10TLF6F\",\"subcategoryName\":\"Zwierz\\\\u0119ta\",\"createDate\":\"2021-11-11 11:08:51\",\"sourceType\":\"MOBILE\"},{\"status\":\"Zamkni\\\\u0119te\",\"categoryName\":\"Informacyjne\",\"createDate\":\"2021-11-11 11:09:19\",\"lon\":-1,\"number\":\"613092\\\\/21\",\"caseId\":\"1-10TLHW8\",\"subcategoryName\":\"Inne\",\"lat\":-1,\"id\":\"1-10TLA6H\",\"sourceType\":\"CALL\"},{\"status\":\"Zamkni\\\\u0119te\",\"categoryName\":\"Informacyjne\",\"createDate\":\"2021-11-11 11:09:54\",\"lon\":-1,\"number\":\"613093\\\\/21\",\"caseId\":\"1-10TLHU1\",\"subcategoryName\":\"Inne\",\"lat\":-1,\"id\":\"1-10TLACM\",\"sourceType\":\"CALL\"},{\"status\":\"Zamkni\\\\u0119te\",\"categoryName\":\"Informacyjne\",\"createDate\":\"2021-11-11 11:11:19\",\"lon\":-1,\"number\":\"613094\\\\/21\",\"caseId\":\"1-10TLI0W\",\"subcategoryName\":\"Inne\",\"lat\":-1,\"id\":\"1-10TLHMR\",\"sourceType\":\"CALL\"},{\"status\":\"Zamkni\\\\u0119te\",\"categoryName\":\"Informacyjne\",\"createDate\":\"2021-11-11 11:11:53\",\"lon\":-1,\"number\":\"613095\\\\/21\",\"caseId\":\"1-10TL4XS\",\"subcategoryName\":\"Inne\",\"lat\":-1,\"id\":\"1-10TL4VL\",\"sourceType\":\"CALL\"},{\"status\":\"Zamkni\\\\u0119te\",\"categoryName\":\"Informacyjne\",\"createDate\":\"2021-11-11 11:12:05\",\"lon\":-1,\"number\":\"613096\\\\/21\",\"caseId\":\"1-10TLHY2\",\"subcategoryName\":\"Inne\",\"lat\":-1,\"id\":\"1-10TLHQ1\",\"sourceType\":\"CALL\"},{\"status\":\"Zamkni\\\\u0119te\",\"sourceType\":\"WEBCHAT\",\"createDate\":\"2021-11-11 11:13:40\",\"lon\":-1,\"caseId\":\"1-10TLKH8\",\"number\":\"613097\\\\/21\",\"lat\":-1,\"id\":\"1-10TL4WR\"},{\"status\":\"Zamkni\\\\u0119te\",\"city\":\"Warszawa\",\"categoryName\":\"Proces Interwencyjny\",\"district\":\"\\\\u017boliborz\",\"createDate\":\"2021-11-11 11:15:22\",\"lon\":20.95937044035029,\"caseId\":\"1-10TLL7F\",\"number\":\"613098\\\\/21\",\"eventName\":\"Uszkodzenie latarni\",\"street\":\"Jasnodworska\",\"subcategoryName\":\"Drogi\",\"lat\":52.262566811362305,\"houseNumber\":\"8A\",\"id\":\"1-10TLF7L\",\"sourceType\":\"PORTAL\"},{\"status\":\"Zamkni\\\\u0119te\",\"city\":\"Warszawa\",\"categoryName\":\"Proces Interwencyjny\",\"district\":\"Ochota\",\"street2\":\"W\\\\u0142odarzewska 55B, 02-384 Ochota\",\"lon\":20.95643,\"caseId\":\"1-10TLL5W\",\"number\":\"613099\\\\/21\",\"eventName\":\"Nieczysto\\\\u015bci w miejscach publicznych\",\"lat\":52.20201,\"deviceType\":\"android\",\"id\":\"1-10TLELL\",\"subcategoryName\":\"\\\\u015amieci\",\"createDate\":\"2021-11-11 11:15:50\",\"sourceType\":\"MOBILE\"},{\"status\":\"Zamkni\\\\u0119te\",\"categoryName\":\"Informacyjne\",\"createDate\":\"2021-11-11 11:16:43\",\"lon\":-1,\"number\":\"613100\\\\/21\",\"caseId\":\"1-10TLKIS\",\"subcategoryName\":\"Inne\",\"lat\":-1,\"id\":\"1-10TLKEW\",\"sourceType\":\"CALL\"},{\"status\":\"Zamkni\\\\u0119te\",\"categoryName\":\"Informacyjne\",\"createDate\":\"2021-11-11 11:17:07\",\"lon\":-1,\"number\":\"613101\\\\/21\",\"caseId\":\"1-10TLL9V\",\"subcategoryName\":\"Inne\",\"lat\":-1,\"id\":\"1-10TLHSW\",\"sourceType\":\"CALL\"},{\"status\":\"Zamkni\\\\u0119te\",\"city\":\"Warszawa\",\"categoryName\":\"Proces Interwencyjny\",\"district\":\"Praga Po\\\\u0142udnie\",\"street2\":\"Mi\\\\u0119dzynarodowa 72, 03-922 Praga-Po\\\\u0142udnie\",\"lon\":21.06281,\"caseId\":\"1-10TLENH\",\"number\":\"613102\\\\/21\",\"eventName\":\"\\\\u0179le zaparkowane pojazdy\",\"lat\":52.24143,\"deviceType\":\"android\",\"id\":\"1-10TLEMP\",\"subcategoryName\":\"Drogi\",\"createDate\":\"2021-11-11 11:17:14\",\"sourceType\":\"MOBILE\"},{\"status\":\"Zamkni\\\\u0119te\",\"city\":\"Warszawa\",\"categoryName\":\"Proces Interwencyjny\",\"district\":\"Ochota\",\"street2\":\"W\\\\u0142odarzewska 55G, 02-384 Ochota\",\"lon\":20.95581,\"caseId\":\"1-10TLLEQ\",\"number\":\"613103\\\\/21\",\"eventName\":\"Nieczysto\\\\u015bci w miejscach publicznych\",\"lat\":52.20204,\"deviceType\":\"android\",\"id\":\"1-10TLEO3\",\"subcategoryName\":\"\\\\u015amieci\",\"createDate\":\"2021-11-11 11:18:20\",\"sourceType\":\"MOBILE\"},{\"status\":\"Zamkni\\\\u0119te\",\"city\":\"Warszawa\",\"categoryName\":\"Proces Interwencyjny\",\"district\":\"Wawer\",\"street2\":\"Izbicka 6, 04-838 Wawer\",\"lon\":21.19134,\"caseId\":\"1-10TLKGE\",\"number\":\"613104\\\\/21\",\"eventName\":\"Uszkodzenie latarni\",\"lat\":52.18361,\"deviceType\":\"android\",\"id\":\"1-10TKZHP\",\"subcategoryName\":\"Drogi\",\"createDate\":\"2021-11-11 11:18:26\",\"sourceType\":\"MOBILE\"},{\"status\":\"Zamkni\\\\u0119te\",\"city\":\"Warszawa\",\"categoryName\":\"Proces Interwencyjny\",\"district\":\"\\\\u017boliborz\",\"createDate\":\"2021-11-11 11:18:45\",\"lon\":20.98349519301621,\"caseId\":\"1-10TLLG6\",\"number\":\"613105\\\\/21\",\"eventName\":\"Odbi\\\\u00f3r odpad\\\\u00f3w na zg\\\\u0142oszenie - gabaryty, zielone\",\"street\":\"Drohicka\",\"subcategoryName\":\"\\\\u015amieci\",\"lat\":52.27573845288706,\"houseNumber\":\"5\",\"id\":\"1-10TLHV4\",\"sourceType\":\"CALL\"},{\"status\":\"Zamkni\\\\u0119te\",\"city\":\"Warszawa\",\"categoryName\":\"Proces Interwencyjny\",\"district\":\"Mokot\\\\u00f3w\",\"createDate\":\"2021-11-11 11:19:44\",\"lon\":21.065012378564496,\"caseId\":\"1-10TLLKM\",\"number\":\"613106\\\\/21\",\"eventName\":\"Przepe\\\\u0142nienie\\\\/brak odbioru wg harmonogramu\",\"street\":\"Sobolewska\",\"subcategoryName\":\"\\\\u015amieci\",\"lat\":52.18986521271108,\"houseNumber\":\"4\",\"id\":\"1-10TLHZ8\",\"sourceType\":\"CALL\"},{\"status\":\"Zamkni\\\\u0119te\",\"categoryName\":\"Informacyjne\",\"createDate\":\"2021-11-11 11:23:10\",\"lon\":-1,\"number\":\"613107\\\\/21\",\"caseId\":\"1-10TLPA7\",\"subcategoryName\":\"Inne\",\"lat\":-1,\"id\":\"1-10TLI1O\",\"sourceType\":\"CALL\"},{\"status\":\"Zamkni\\\\u0119te\",\"categoryName\":\"Informacyjne\",\"createDate\":\"2021-11-11 11:23:40\",\"lon\":-1,\"number\":\"613108\\\\/21\",\"caseId\":\"1-10TLLNG\",\"subcategoryName\":\"Inne\",\"lat\":-1,\"id\":\"1-10TLL6I\",\"sourceType\":\"CALL\"},{\"status\":\"Zamkni\\\\u0119te\",\"categoryName\":\"Proces Interwencyjny\",\"district\":\"Praga Po\\\\u0142udnie\",\"createDate\":\"2021-11-11 11:25:17\",\"lon\":21.058507371998623,\"caseId\":\"1-10TLP3M\",\"number\":\"613109\\\\/21\",\"eventName\":\"Uszkodzenie sygnalizacji \\\\u015bwietlnej\",\"subcategoryName\":\"Drogi\",\"lat\":52.24690076685751,\"id\":\"1-10TLLM7\",\"sourceType\":\"CALL\"},{\"status\":\"Zamkni\\\\u0119te\",\"categoryName\":\"Informacyjne\",\"createDate\":\"2021-11-11 11:25:32\",\"lon\":-1,\"number\":\"613110\\\\/21\",\"caseId\":\"1-10TLKKW\",\"subcategoryName\":\"Inne\",\"lat\":-1,\"id\":\"1-10TLKH0\",\"sourceType\":\"CALL\"},{\"status\":\"Zamkni\\\\u0119te\",\"categoryName\":\"Informacyjne\",\"createDate\":\"2021-11-11 11:25:43\",\"lon\":-1,\"number\":\"613111\\\\/21\",\"caseId\":\"1-10TLKN6\",\"subcategoryName\":\"Inne\",\"lat\":-1,\"id\":\"1-10TLKJK\",\"sourceType\":\"CALL\"},{\"status\":\"Zamkni\\\\u0119te\",\"city\":\"Warszawa\",\"categoryName\":\"Proces Interwencyjny\",\"district\":\"Wilan\\\\u00f3w\",\"createDate\":\"2021-11-11 11:25:44\",\"lon\":21.09167004702153,\"caseId\":\"1-10TLNHP\",\"number\":\"613112\\\\/21\",\"eventName\":\"Przepe\\\\u0142nienie\\\\/brak odbioru wg harmonogramu\",\"street\":\"Zap\\\\u0142ocie\",\"subcategoryName\":\"\\\\u015amieci\",\"lat\":52.130667599240425,\"houseNumber\":\"126A\",\"id\":\"1-10TKZJZ\",\"sourceType\":\"PORTAL\"},{\"status\":\"Zamkni\\\\u0119te\",\"city\":\"Warszawa\",\"categoryName\":\"Proces Interwencyjny\",\"district\":\"Praga Po\\\\u0142udnie\",\"street2\":\"Wa\\\\u0142 Miedzeszy\\\\u0144ski 407, 03-942 Praga-Po\\\\u0142udnie\",\"lon\":21.05019,\"caseId\":\"1-10TLP1E\",\"number\":\"613113\\\\/21\",\"eventName\":\"Ha\\\\u0142as - wybryki chuliga\\\\u0144skie, zak\\\\u0142\\\\u00f3canie ciszy nocnej\",\"lat\":52.23062,\"deviceType\":\"ios\",\"id\":\"1-10TLNIF\",\"subcategoryName\":\"Porz\\\\u0105dek i bezpiecze\\\\u0144stwo\",\"createDate\":\"2021-11-11 11:26:00\",\"sourceType\":\"MOBILE\"},{\"status\":\"Zamkni\\\\u0119te\",\"city\":\"Warszawa\",\"categoryName\":\"Proces Interwencyjny\",\"district\":\"Bielany\",\"street2\":\"Lektykarska 4\\\\/6, 01-687 Bielany\",\"lon\":20.96872,\"caseId\":\"1-10TLER6\",\"number\":\"613114\\\\/21\",\"eventName\":\"Zanieczyszczenie powietrza\",\"lat\":52.2787,\"deviceType\":\"ios\",\"id\":\"1-10TLEQB\",\"subcategoryName\":\"Porz\\\\u0105dek i bezpiecze\\\\u0144stwo\",\"createDate\":\"2021-11-11 11:26:32\",\"sourceType\":\"MOBILE\"},{\"status\":\"Zamkni\\\\u0119te\",\"categoryName\":\"Informacyjne\",\"createDate\":\"2021-11-11 11:26:45\",\"lon\":-1,\"number\":\"613115\\\\/21\",\"caseId\":\"1-10TLLUD\",\"subcategoryName\":\"Inne\",\"lat\":-1,\"id\":\"1-10TLLAY\",\"sourceType\":\"CALL\"},{\"status\":\"Przekierowane\",\"sourceType\":\"CALL\",\"createDate\":\"2021-11-11 11:26:58\",\"lon\":-1,\"caseId\":\"1-10TLLPS\",\"number\":\"613116\\\\/21\",\"lat\":-1,\"id\":\"1-10TLLHM\"},{\"status\":\"Zamkni\\\\u0119te\",\"categoryName\":\"Informacyjne\",\"createDate\":\"2021-11-11 11:27:09\",\"lon\":-1,\"number\":\"613117\\\\/21\",\"caseId\":\"1-10TLLVQ\",\"subcategoryName\":\"Inne\",\"lat\":-1,\"id\":\"1-10TLLPT\",\"sourceType\":\"CALL\"},{\"status\":\"Zamkni\\\\u0119te\",\"categoryName\":\"Informacyjne\",\"createDate\":\"2021-11-11 11:28:32\",\"lon\":-1,\"number\":\"613118\\\\/21\",\"caseId\":\"1-10TLP82\",\"subcategoryName\":\"Inne\",\"lat\":-1,\"id\":\"1-10TLHFT\",\"sourceType\":\"CALL\"},{\"status\":\"Zamkni\\\\u0119te\",\"categoryName\":\"Informacyjne\",\"createDate\":\"2021-11-11 11:29:50\",\"lon\":-1,\"number\":\"613119\\\\/21\",\"caseId\":\"1-10TLKQA\",\"subcategoryName\":\"Inne\",\"lat\":-1,\"id\":\"1-10TLKHZ\",\"sourceType\":\"CALL\"},{\"status\":\"Zamkni\\\\u0119te\",\"city\":\"Warszawa\",\"categoryName\":\"Proces Interwencyjny\",\"district\":\"Mokot\\\\u00f3w\",\"street2\":\"Zielona 5, 02-913 Mokot\\\\u00f3w\",\"lon\":21.07024,\"caseId\":\"1-10TLNKW\",\"number\":\"613120\\\\/21\",\"eventName\":\"Odbi\\\\u00f3r odpad\\\\u00f3w na zg\\\\u0142oszenie - gabaryty, zielone\",\"lat\":52.18686,\"deviceType\":\"android\",\"id\":\"1-10TLNK3\",\"subcategoryName\":\"\\\\u015amieci\",\"createDate\":\"2021-11-11 11:31:30\",\"sourceType\":\"MOBILE\"},{\"status\":\"Zamkni\\\\u0119te\",\"city\":\"Warszawa\",\"categoryName\":\"Proces Interwencyjny\",\"district\":\"Ochota\",\"street2\":\"W\\\\u0142odarzewska 83, 02-393 Ochota\",\"lon\":20.94965,\"caseId\":\"1-10TLP65\",\"number\":\"613121\\\\/21\",\"eventName\":\"Nieczysto\\\\u015bci w miejscach publicznych\",\"lat\":52.20274,\"deviceType\":\"android\",\"id\":\"1-10TLNLH\",\"subcategoryName\":\"\\\\u015amieci\",\"createDate\":\"2021-11-11 11:31:42\",\"sourceType\":\"MOBILE\"},{\"status\":\"Zamkni\\\\u0119te\",\"city\":\"Warszawa\",\"categoryName\":\"Proces Interwencyjny\",\"district\":\"Rembert\\\\u00f3w\",\"createDate\":\"2021-11-11 11:33:22\",\"lon\":21.15247274735464,\"caseId\":\"1-10TLESN\",\"number\":\"613122\\\\/21\",\"eventName\":\"Przepe\\\\u0142nienie\\\\/brak odbioru wg harmonogramu\",\"street\":\"Kadrowa\",\"subcategoryName\":\"\\\\u015amieci\",\"lat\":52.270432283762354,\"houseNumber\":\"83V\",\"id\":\"1-10TLES1\",\"sourceType\":\"PORTAL\"},{\"status\":\"Zamkni\\\\u0119te\",\"city\":\"Warszawa\",\"categoryName\":\"Proces Interwencyjny\",\"createDate\":\"2021-11-11 11:33:24\",\"lon\":-1,\"caseId\":\"1-10TLPG3\",\"number\":\"613123\\\\/21\",\"eventName\":\"Awaria parkometru - StrefaPPN\",\"subcategoryName\":\"Drogi\",\"lat\":-1,\"id\":\"1-10TLLO8\",\"sourceType\":\"MAIL\"},{\"status\":\"Zamkni\\\\u0119te\",\"categoryName\":\"Informacyjne\",\"createDate\":\"2021-11-11 11:33:42\",\"lon\":-1,\"number\":\"613124\\\\/21\",\"caseId\":\"1-10TLKOZ\",\"subcategoryName\":\"Inne\",\"lat\":-1,\"id\":\"1-10TLKLO\",\"sourceType\":\"CALL\"},{\"status\":\"Zamkni\\\\u0119te\",\"city\":\"Warszawa\",\"categoryName\":\"Proces Interwencyjny\",\"district\":\"Wilan\\\\u00f3w\",\"createDate\":\"2021-11-11 11:34:57\",\"lon\":21.060803821498606,\"caseId\":\"1-10TLFJB\",\"number\":\"613125\\\\/21\",\"eventName\":\"Przepe\\\\u0142nienie\\\\/brak odbioru wg harmonogramu\",\"street\":\"Paprotki\",\"subcategoryName\":\"\\\\u015amieci\",\"lat\":52.168537102869344,\"houseNumber\":\"45\",\"id\":\"1-10TLFIP\",\"sourceType\":\"PORTAL\"},{\"status\":\"Zamkni\\\\u0119te\",\"city\":\"Warszawa\",\"categoryName\":\"Proces Interwencyjny\",\"district\":\"Ochota\",\"street2\":\"W\\\\u0142odarzewska 63, 02-384 Ochota\",\"lon\":20.95399,\"caseId\":\"1-10TLPI8\",\"number\":\"613126\\\\/21\",\"eventName\":\"Nieczysto\\\\u015bci w miejscach publicznych\",\"lat\":52.20229,\"deviceType\":\"android\",\"id\":\"1-10TLNML\",\"subcategoryName\":\"\\\\u015amieci\",\"createDate\":\"2021-11-11 11:37:22\",\"sourceType\":\"MOBILE\"},{\"status\":\"Zamkni\\\\u0119te\",\"city\":\"Warszawa\",\"categoryName\":\"Proces Interwencyjny\",\"district\":\"Ochota\",\"street2\":\"S\\\\u0142upecka 11, 02-309 Ochota\",\"lon\":20.98109,\"caseId\":\"1-10TLNOK\",\"number\":\"613127\\\\/21\",\"eventName\":\"\\\\u0179le zaparkowane pojazdy\",\"lat\":52.2204,\"deviceType\":\"android\",\"id\":\"1-10TLNNP\",\"subcategoryName\":\"Drogi\",\"createDate\":\"2021-11-11 11:37:29\",\"sourceType\":\"MOBILE\"},{\"status\":\"Zamkni\\\\u0119te\",\"categoryName\":\"Informacyjne\",\"createDate\":\"2021-11-11 11:37:49\",\"lon\":-1,\"number\":\"613128\\\\/21\",\"caseId\":\"1-10TLPE0\",\"subcategoryName\":\"Inne\",\"lat\":-1,\"id\":\"1-10TLPBJ\",\"sourceType\":\"CALL\"},{\"status\":\"Zamkni\\\\u0119te\",\"categoryName\":\"Informacyjne\",\"createDate\":\"2021-11-11 11:37:51\",\"lon\":-1,\"number\":\"613129\\\\/21\",\"caseId\":\"1-10TLSWU\",\"subcategoryName\":\"Inne\",\"lat\":-1,\"id\":\"1-10TLLVG\",\"sourceType\":\"CALL\"},{\"status\":\"Zamkni\\\\u0119te\",\"city\":\"Warszawa\",\"categoryName\":\"Proces Interwencyjny\",\"createDate\":\"2021-11-11 11:38:08\",\"lon\":-1,\"caseId\":\"1-10TLPRX\",\"number\":\"613130\\\\/21\",\"eventName\":\"Biletomat - problemy z transakcj\\\\u0105\",\"subcategoryName\":\"Komunikacja\",\"lat\":-1,\"id\":\"1-10TLP20\",\"sourceType\":\"CALL\"},{\"status\":\"Zamkni\\\\u0119te\",\"categoryName\":\"Informacyjne\",\"createDate\":\"2021-11-11 11:38:30\",\"lon\":-1,\"number\":\"613131\\\\/21\",\"caseId\":\"1-10TLKU1\",\"subcategoryName\":\"Inne\",\"lat\":-1,\"id\":\"1-10TLKNY\",\"sourceType\":\"CALL\"},{\"status\":\"Zamkni\\\\u0119te\",\"categoryName\":\"Informacyjne\",\"createDate\":\"2021-11-11 11:38:32\",\"lon\":-1,\"number\":\"613132\\\\/21\",\"caseId\":\"1-10TLKS8\",\"subcategoryName\":\"Inne\",\"lat\":-1,\"id\":\"1-10TLKPR\",\"sourceType\":\"CALL\"},{\"status\":\"Zamkni\\\\u0119te\",\"city\":\"Warszawa\",\"categoryName\":\"Proces Interwencyjny\",\"district\":\"Wawer\",\"createDate\":\"2021-11-11 11:38:41\",\"lon\":21.20526057765643,\"caseId\":\"1-10TLPMZ\",\"number\":\"613133\\\\/21\",\"eventName\":\"Odbi\\\\u00f3r odpad\\\\u00f3w na zg\\\\u0142oszenie - gabaryty, zielone\",\"street\":\"Hufcowa\",\"subcategoryName\":\"\\\\u015amieci\",\"lat\":52.18105005559324,\"houseNumber\":\"4\",\"id\":\"1-10TLP95\",\"sourceType\":\"CALL\"},{\"status\":\"Zamkni\\\\u0119te\",\"city\":\"Warszawa\",\"categoryName\":\"Proces Interwencyjny\",\"district\":\"Wilan\\\\u00f3w\",\"createDate\":\"2021-11-11 11:39:15\",\"lon\":21.060803821498606,\"caseId\":\"1-10TLNPR\",\"number\":\"613134\\\\/21\",\"eventName\":\"Przepe\\\\u0142nienie\\\\/brak odbioru wg harmonogramu\",\"street\":\"Paprotki\",\"subcategoryName\":\"\\\\u015amieci\",\"lat\":52.168537102869344,\"houseNumber\":\"45\",\"id\":\"1-10TLNP5\",\"sourceType\":\"PORTAL\"},{\"status\":\"Zamkni\\\\u0119te\",\"categoryName\":\"Informacyjne\",\"createDate\":\"2021-11-11 11:40:55\",\"lon\":-1,\"number\":\"613135\\\\/21\",\"caseId\":\"1-10TLKWF\",\"subcategoryName\":\"Inne\",\"lat\":-1,\"id\":\"1-10TLKR2\",\"sourceType\":\"CALL\"},{\"status\":\"Zamkni\\\\u0119te\",\"categoryName\":\"Informacyjne\",\"createDate\":\"2021-11-11 11:41:57\",\"lon\":-1,\"number\":\"613136\\\\/21\",\"caseId\":\"1-10TLPPE\",\"subcategoryName\":\"Inne\",\"lat\":-1,\"id\":\"1-10TLPKZ\",\"sourceType\":\"CALL\"},{\"status\":\"Zamkni\\\\u0119te\",\"categoryName\":\"Informacyjne\",\"createDate\":\"2021-11-11 11:44:00\",\"lon\":-1,\"number\":\"613137\\\\/21\",\"caseId\":\"1-10TLT13\",\"subcategoryName\":\"Inne\",\"lat\":-1,\"id\":\"1-10TLPFN\",\"sourceType\":\"CALL\"},{\"status\":\"Zamkni\\\\u0119te\",\"categoryName\":\"Informacyjne\",\"createDate\":\"2021-11-11 11:44:19\",\"lon\":-1,\"number\":\"613138\\\\/21\",\"caseId\":\"1-10TLT97\",\"subcategoryName\":\"Inne\",\"lat\":-1,\"id\":\"1-10TLSYE\",\"sourceType\":\"CALL\"},{\"status\":\"Zamkni\\\\u0119te\",\"city\":\"Warszawa\",\"categoryName\":\"Proces Interwencyjny\",\"district\":\"Wilan\\\\u00f3w\",\"createDate\":\"2021-11-11 11:44:32\",\"lon\":21.115805252064597,\"caseId\":\"1-10TLT7L\",\"number\":\"613139\\\\/21\",\"eventName\":\"Przepe\\\\u0142nienie\\\\/brak odbioru wg harmonogramu\",\"street\":\"Bruzdowa\",\"subcategoryName\":\"\\\\u015amieci\",\"lat\":52.16575111356306,\"houseNumber\":\"93E\",\"id\":\"1-10TLPIU\",\"sourceType\":\"CALL\"},{\"status\":\"Zamkni\\\\u0119te\",\"city\":\"Warszawa\",\"categoryName\":\"Proces Interwencyjny\",\"district\":\"Wawer\",\"createDate\":\"2021-11-11 11:45:37\",\"lon\":21.13946883905438,\"caseId\":\"1-10TLL21\",\"number\":\"613140\\\\/21\",\"eventName\":\"Uszkodzenie sygnalizacji \\\\u015bwietlnej\",\"subcategoryName\":\"Drogi\",\"lat\":52.17868879312915,\"id\":\"1-10TLKT0\",\"sourceType\":\"CALL\"},{\"status\":\"Zamkni\\\\u0119te\",\"categoryName\":\"Informacyjne\",\"createDate\":\"2021-11-11 11:46:27\",\"lon\":-1,\"number\":\"613141\\\\/21\",\"caseId\":\"1-10TLKZS\",\"subcategoryName\":\"Inne\",\"lat\":-1,\"id\":\"1-10TLKUT\",\"sourceType\":\"CALL\"},{\"status\":\"Zamkni\\\\u0119te\",\"city\":\"Warszawa\",\"categoryName\":\"Proces Interwencyjny\",\"district\":\"Praga Po\\\\u0142udnie\",\"street2\":\"Ml\\\\u0105dzka 36, 04-136 Praga-Po\\\\u0142udnie\",\"lon\":21.09942,\"caseId\":\"1-10TLTAL\",\"number\":\"613142\\\\/21\",\"eventName\":\"Uszkodzenie studzienki TP S.A.\",\"lat\":52.24097,\"deviceType\":\"android\",\"id\":\"1-10TLNS5\",\"subcategoryName\":\"Drogi\",\"createDate\":\"2021-11-11 11:47:27\",\"sourceType\":\"MOBILE\"},{\"status\":\"Zamkni\\\\u0119te\",\"categoryName\":\"Informacyjne\",\"createDate\":\"2021-11-11 11:47:32\",\"lon\":-1,\"number\":\"613143\\\\/21\",\"caseId\":\"1-10TLT5O\",\"subcategoryName\":\"Inne\",\"lat\":-1,\"id\":\"1-10TLPOF\",\"sourceType\":\"CALL\"},{\"status\":\"Zamkni\\\\u0119te\",\"city\":\"Warszawa\",\"categoryName\":\"Proces Interwencyjny\",\"district\":\"Mokot\\\\u00f3w\",\"street2\":\"Powsi\\\\u0144ska 24A, 02-903 Mokot\\\\u00f3w\",\"lon\":21.06694,\"caseId\":\"1-10TLNU2\",\"number\":\"613144\\\\/21\",\"eventName\":\"\\\\u0179le zaparkowane pojazdy\",\"lat\":52.18354,\"deviceType\":\"ios\",\"id\":\"1-10TLNT9\",\"subcategoryName\":\"Drogi\",\"createDate\":\"2021-11-11 11:48:35\",\"sourceType\":\"MOBILE\"},{\"status\":\"Zamkni\\\\u0119te\",\"city\":\"Warszawa\",\"categoryName\":\"Proces Interwencyjny\",\"district\":\"\\\\u015ar\\\\u00f3dmie\\\\u015bcie\",\"street2\":\"MARSZA\\\\u0141KOWSKA 28, 00-576 \\\\u015ar\\\\u00f3dmie\\\\u015bcie\",\"lon\":21.01891,\"caseId\":\"1-10TLNVF\",\"number\":\"613145\\\\/21\",\"eventName\":\"\\\\u0179le zaparkowane pojazdy\",\"lat\":52.21868,\"deviceType\":\"android\",\"id\":\"1-10TLNUN\",\"subcategoryName\":\"Drogi\",\"createDate\":\"2021-11-11 11:48:55\",\"sourceType\":\"MOBILE\"},{\"status\":\"Zamkni\\\\u0119te\",\"city\":\"Warszawa\",\"categoryName\":\"Proces Interwencyjny\",\"district\":\"Praga P\\\\u00f3\\\\u0142noc\",\"street2\":\"ks. I. K\\\\u0142opotowskiego 31, 03-720 Praga-P\\\\u00f3\\\\u0142noc\",\"lon\":21.03566,\"caseId\":\"1-10TLTCF\",\"number\":\"613146\\\\/21\",\"eventName\":\"Zmiana organizacji ruchu\",\"lat\":52.25208,\"deviceType\":\"android\",\"id\":\"1-10TLNW1\",\"subcategoryName\":\"Drogi\",\"createDate\":\"2021-11-11 11:49:00\",\"sourceType\":\"MOBILE\"},{\"status\":\"Zamkni\\\\u0119te\",\"city\":\"Warszawa\",\"categoryName\":\"Proces Interwencyjny\",\"district\":\"\\\\u015ar\\\\u00f3dmie\\\\u015bcie\",\"street2\":\"JAWORZY\\\\u0143SKA 6, 00-634 \\\\u015ar\\\\u00f3dmie\\\\u015bcie\",\"lon\":21.01613,\"caseId\":\"1-10TLNXX\",\"number\":\"613147\\\\/21\",\"eventName\":\"\\\\u0179le zaparkowane pojazdy\",\"lat\":52.21901,\"deviceType\":\"android\",\"id\":\"1-10TLNX5\",\"subcategoryName\":\"Drogi\",\"createDate\":\"2021-11-11 11:50:41\",\"sourceType\":\"MOBILE\"},{\"status\":\"Zamkni\\\\u0119te\",\"categoryName\":\"Informacyjne\",\"createDate\":\"2021-11-11 11:50:57\",\"lon\":-1,\"number\":\"613148\\\\/21\",\"caseId\":\"1-10TLTK3\",\"subcategoryName\":\"Inne\",\"lat\":-1,\"id\":\"1-10TLLU2\",\"sourceType\":\"CALL\"},{\"status\":\"Zamkni\\\\u0119te\",\"categoryName\":\"Informacyjne\",\"createDate\":\"2021-11-11 11:51:09\",\"lon\":-1,\"number\":\"613149\\\\/21\",\"caseId\":\"1-10TLYAV\",\"subcategoryName\":\"Inne\",\"lat\":-1,\"id\":\"1-10TLL3L\",\"sourceType\":\"CALL\"},{\"status\":\"Zamkni\\\\u0119te\",\"categoryName\":\"Informacyjne\",\"createDate\":\"2021-11-11 11:51:23\",\"lon\":-1,\"number\":\"613150\\\\/21\",\"caseId\":\"1-10TLTGV\",\"subcategoryName\":\"Inne\",\"lat\":-1,\"id\":\"1-10TLPQG\",\"sourceType\":\"CALL\"},{\"status\":\"Zamkni\\\\u0119te\",\"city\":\"Warszawa\",\"categoryName\":\"Proces Interwencyjny\",\"district\":\"\\\\u017boliborz\",\"street2\":\"Przasnyska 9, 01-756 \\\\u017boliborz\",\"lon\":20.96872,\"caseId\":\"1-10TLTFA\",\"number\":\"613151\\\\/21\",\"eventName\":\"Inne zdarzenie\",\"lat\":52.25998,\"deviceType\":\"ios\",\"id\":\"1-10TLDZN\",\"subcategoryName\":\"Inne\",\"createDate\":\"2021-11-11 11:51:34\",\"sourceType\":\"MOBILE\"},{\"status\":\"Zamkni\\\\u0119te\",\"city\":\"Warszawa\",\"categoryName\":\"Proces Interwencyjny\",\"createDate\":\"2021-11-11 11:52:07\",\"lon\":-1,\"caseId\":\"1-10TM05R\",\"number\":\"613152\\\\/21\",\"eventName\":\"Biletomat - problemy z transakcj\\\\u0105\",\"subcategoryName\":\"Komunikacja\",\"lat\":-1,\"id\":\"1-10TLSXX\",\"sourceType\":\"CALL\"},{\"status\":\"Zamkni\\\\u0119te\",\"categoryName\":\"Informacyjne\",\"createDate\":\"2021-11-11 11:53:01\",\"lon\":-1,\"number\":\"613153\\\\/21\",\"caseId\":\"1-10TLL5B\",\"subcategoryName\":\"Inne\",\"lat\":-1,\"id\":\"1-10TLL48\",\"sourceType\":\"CALL\"},{\"status\":\"Zamkni\\\\u0119te\",\"city\":\"Warszawa\",\"categoryName\":\"Proces Interwencyjny\",\"district\":\"Mokot\\\\u00f3w\",\"createDate\":\"2021-11-11 11:54:22\",\"lon\":21.03019916484043,\"caseId\":\"1-10TM00X\",\"number\":\"613154\\\\/21\",\"eventName\":\"Inne zdarzenie\",\"subcategoryName\":\"Inne\",\"lat\":52.19028882600901,\"id\":\"1-10TLT6R\",\"sourceType\":\"CALL\"},{\"status\":\"Zamkni\\\\u0119te\",\"city\":\"Warszawa\",\"categoryName\":\"Proces Interwencyjny\",\"district\":\"Wola\",\"street2\":\"Radziwie 3, 01-164 Wola\",\"lon\":20.96202,\"caseId\":\"1-10TLE1K\",\"number\":\"613155\\\\/21\",\"eventName\":\"\\\\u0179le zaparkowane pojazdy\",\"lat\":52.24485,\"deviceType\":\"ios\",\"id\":\"1-10TLE0R\",\"subcategoryName\":\"Drogi\",\"createDate\":\"2021-11-11 11:54:45\",\"sourceType\":\"MOBILE\"},{\"status\":\"Zamkni\\\\u0119te\",\"city\":\"Warszawa\",\"categoryName\":\"Proces Interwencyjny\",\"district\":\"Bielany\",\"street2\":\"Antyczna 4, 01-962 Bielany\",\"lon\":20.93737,\"caseId\":\"1-10TLZU5\",\"number\":\"613156\\\\/21\",\"eventName\":\"Martwe zwierz\\\\u0119ta\",\"lat\":52.28985,\"deviceType\":\"ios\",\"id\":\"1-10TLEUR\",\"subcategoryName\":\"Zwierz\\\\u0119ta\",\"createDate\":\"2021-11-11 11:55:59\",\"sourceType\":\"MOBILE\"},{\"status\":\"Zamkni\\\\u0119te\",\"categoryName\":\"Informacyjne\",\"createDate\":\"2021-11-11 11:56:13\",\"lon\":-1,\"number\":\"613157\\\\/21\",\"caseId\":\"1-10TLZWA\",\"subcategoryName\":\"Inne\",\"lat\":-1,\"id\":\"1-10TLTLD\",\"sourceType\":\"CALL\"},{\"status\":\"Zamkni\\\\u0119te\",\"categoryName\":\"Informacyjne\",\"createDate\":\"2021-11-11 11:56:30\",\"lon\":-1,\"number\":\"613158\\\\/21\",\"caseId\":\"1-10TLYCT\",\"subcategoryName\":\"Inne\",\"lat\":-1,\"id\":\"1-10TLYBQ\",\"sourceType\":\"CALL\"},{\"status\":\"Zamkni\\\\u0119te\",\"categoryName\":\"Informacyjne\",\"createDate\":\"2021-11-11 11:57:28\",\"lon\":-1,\"number\":\"613159\\\\/21\",\"caseId\":\"1-10TM5CO\",\"subcategoryName\":\"Inne\",\"lat\":-1,\"id\":\"1-10TLTD1\",\"sourceType\":\"CALL\"},{\"status\":\"Zamkni\\\\u0119te\",\"categoryName\":\"Informacyjne\",\"createDate\":\"2021-11-11 11:58:49\",\"lon\":-1,\"number\":\"613160\\\\/21\",\"caseId\":\"1-10TLYFU\",\"subcategoryName\":\"Inne\",\"lat\":-1,\"id\":\"1-10TLYDN\",\"sourceType\":\"CALL\"},{\"status\":\"Zamkni\\\\u0119te\",\"city\":\"Warszawa\",\"categoryName\":\"Proces Interwencyjny\",\"district\":\"\\\\u017boliborz\",\"street2\":\"Gda\\\\u0144ska 1A, 01-633 \\\\u017boliborz\",\"lon\":20.97193,\"caseId\":\"1-10TM02V\",\"number\":\"613161\\\\/21\",\"eventName\":\"Uszkodzenie lub brak urz\\\\u0105dze\\\\u0144 r\\\\u00f3\\\\u017cnych - zamontowanych w jezdniach, chodnikach\",\"lat\":52.27309,\"deviceType\":\"android\",\"id\":\"1-10TLEVV\",\"subcategoryName\":\"Drogi\",\"createDate\":\"2021-11-11 11:59:06\",\"sourceType\":\"MOBILE\"},{\"status\":\"Zamkni\\\\u0119te\",\"categoryName\":\"Informacyjne\",\"createDate\":\"2021-11-11 11:59:36\",\"lon\":-1,\"number\":\"613162\\\\/21\",\"caseId\":\"1-10TM0DY\",\"subcategoryName\":\"Inne\",\"lat\":-1,\"id\":\"1-10TLTI7\",\"sourceType\":\"WEBCHAT\"},{\"status\":\"Zamkni\\\\u0119te\",\"categoryName\":\"Informacyjne\",\"createDate\":\"2021-11-11 11:59:56\",\"lon\":-1,\"number\":\"613163\\\\/21\",\"caseId\":\"1-10TM09V\",\"subcategoryName\":\"Inne\",\"lat\":-1,\"id\":\"1-10TLZZP\",\"sourceType\":\"CALL\"}]}}}'"
      ]
     },
     "execution_count": 4,
     "metadata": {},
     "output_type": "execute_result"
    }
   ],
   "source": [
    "response.content"
   ]
  },
  {
   "cell_type": "code",
   "execution_count": 5,
   "id": "01cc9f33",
   "metadata": {
    "ExecuteTime": {
     "end_time": "2022-05-02T18:33:34.902362Z",
     "start_time": "2022-05-02T18:33:34.893359Z"
    }
   },
   "outputs": [],
   "source": [
    "def fetch_file(date_start: str, date_end: str, raw_data_folder: str = \"data_raw/\"):\n",
    "\n",
    "    print(\"Fetching:\", date_start, date_end)\n",
    "\n",
    "    payload = json.dumps({\n",
    "        \"filters\": [\n",
    "            {\n",
    "                \"field\": \"CREATE_DATE\",\n",
    "                \"operator\": \"GEQ\",\n",
    "                \"value\": [\n",
    "                    date_start\n",
    "                ]\n",
    "            },\n",
    "            {\n",
    "                \"field\": \"CREATE_DATE\",\n",
    "                \"operator\": \"LEQ\",\n",
    "                \"value\": [\n",
    "                    date_end\n",
    "                ]\n",
    "            }\n",
    "        ],\n",
    "        \"operators\": [\n",
    "            \"AND\"\n",
    "        ],\n",
    "        \"sorters\": [],\n",
    "        \"paginator\": {\n",
    "            \"resultLimit\": 2000,\n",
    "            \"resultOffset\": 0\n",
    "        }\n",
    "    })\n",
    "    headers = {'Content-Type': 'application/json'}\n",
    "\n",
    "    response = requests.request(\n",
    "        \"POST\", REQUEST_URL, headers=headers, data=payload)\n",
    "\n",
    "    # check\n",
    "    response.raise_for_status()\n",
    "\n",
    "    filename = date_start + \"-\" + date_end\n",
    "    filename = filename.replace(\":\", \"\")\n",
    "\n",
    "    # compress and save response\n",
    "    filename = filename + \".gz\"\n",
    "    with gzip.open(raw_data_folder+filename, \"wb\") as f:\n",
    "        f.write(response.content)\n",
    "        print(\"Saved:\", filename)\n"
   ]
  },
  {
   "cell_type": "code",
   "execution_count": 6,
   "id": "f61c2f5e",
   "metadata": {},
   "outputs": [
    {
     "name": "stdout",
     "output_type": "stream",
     "text": [
      "Fetching: 2021-11-11T10:00:00Z 2021-11-11T11:00:00Z\n",
      "Saved: 2021-11-11T100000Z-2021-11-11T110000Z.gz\n"
     ]
    }
   ],
   "source": [
    "# test call\n",
    "fetch_file(\"2021-11-11T10:00:00Z\", \"2021-11-11T11:00:00Z\")"
   ]
  },
  {
   "cell_type": "code",
   "execution_count": null,
   "id": "356f7da4",
   "metadata": {},
   "outputs": [],
   "source": [
    "# loop\n",
    "\n",
    "start = datetime(2021, 1, 1, 00, 0, 0)\n",
    "end = datetime(2022, 9, 24, 0, 0, 0)\n",
    "interval = timedelta(hours=1)\n",
    "\n",
    "while start < end:\n",
    "    print(start, start + interval)\n",
    "    start_str = start.strftime(\"%Y-%m-%dT%H:%M:%SZ\")\n",
    "    end_str = (start + interval).strftime(\"%Y-%m-%dT%H:%M:%SZ\")\n",
    "    fetch_file(start_str, end_str)\n",
    "\n",
    "    start += interval\n",
    "    await sleep(REQUEST_DELAY_SEC)"
   ]
  }
 ],
 "metadata": {
  "interpreter": {
   "hash": "81794d4967e6c3204c66dcd87b604927b115b27c00565d3d43f05ba2f3a2cb0d"
  },
  "kernelspec": {
   "display_name": "Python 3.9.2 64-bit",
   "language": "python",
   "name": "python3"
  },
  "language_info": {
   "codemirror_mode": {
    "name": "ipython",
    "version": 3
   },
   "file_extension": ".py",
   "mimetype": "text/x-python",
   "name": "python",
   "nbconvert_exporter": "python",
   "pygments_lexer": "ipython3",
   "version": "3.9.2"
  }
 },
 "nbformat": 4,
 "nbformat_minor": 5
}
